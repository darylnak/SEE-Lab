{
 "cells": [
  {
   "cell_type": "markdown",
   "metadata": {},
   "source": [
    "## Some Practice with EEG Analysis in Python\n",
    "\n",
    "### Overview\n",
    "\n",
    "The purpose of this task is to give you a chance to get familiar with some techniques for analyzing EEG signals using Python. Our goal will be to predict whether or not a segment of data from an EEG corresponds to a seizure or not. Our analysis will consist of three main steps which are described in detail below."
   ]
  },
  {
   "cell_type": "markdown",
   "metadata": {},
   "source": [
    "## Step 1: Reading the data\n",
    "\n",
    "The data for this project comes from the \"Physionet\" database collected by the Children's Hospital of Boston. The data consits of EEG recordings gathered from 10 children and young adults with medically resistant epilepsy. Each test subject has around 50 hours of recordings so there's a lot of data! A neurologist then went through all the data by hand and identified all the seizures. So each sample gets a value of `1` if it corresponds to a seizure and a `0` if not. The data was collected in a hospital setting and more subjects have data from at least 20 different electrodes. However, to be closer to the environment faced by developers of embedded systems we'll only look at two channels that are located near the temples. You can see some more detailed information about the data [here](https://physionet.org/content/chbmit/1.0.0/).\n",
    "\n",
    "In the `../input/` folder you'll find a file `eeg_data_temples2.h5` which contains all the EEG recordings for the two channels we're interested in. Our first step will be to read this data into Python and convert it into a format our algorithm can work with. To do so, we'll use the `tables` library for Python which can read the `HDF5` file format which is used to store the EEG data.\n",
    "\n",
    "## Side Note: Model Estimation and Feature Extraction\n",
    "\n",
    "For this task we want to classify a short segment (commonly called a \"window\") of an EEG recording (4 seconds to be exact) as either being a during a seizure or not. To do so, we will use a logistic regression model. Very succinctly, a lostic regression is a statistical model which can be used predicts the value of a binary random variable (i.e. a random variable which takes on exactly two discrete values) known as the \"outcome\" or \"dependent variable,\" given a set of observations of one or more \"input\" or \"independent\" variables. Very succinctly, suppose we have two input variables $x_1 \\in \\mathbb{R}$ and $x_2 \\in \\mathbb{R}$ (where $\\mathbb{R}$ denotes the real numbers) and a discrete outcome $y \\in \\{0,1\\}$. Then logistic regression first computes a linear function of those variables:\n",
    "\n",
    "$$ z = \\beta_0 + \\beta_1 x_1 + \\beta_2 x_2 $$\n",
    "\n",
    "and then \"squashes\" $z$ through a function (called the logistic-sigmoid) which converts $z$ into a probability. Putting both steps together we have:\n",
    "\n",
    "$$ Pr(y = 1 | x_1, x_2) = \\sigma(\\beta_0 + \\beta_1 x_1 + \\beta_2 x_2) $$\n",
    "\n",
    "where $\\sigma(x) = \\frac{1}{1+e^{-x}}$ is the logistic sigmoid. In general, we don't know $\\beta_0, \\beta_1, \\beta_2$ and need to *estimate* them from some data. The $\\beta$ are known as the model \"parameters\" and the process of estimating them is called \"parameter estimation\" (there's an entire ECE course that is just about parameter estimation). The algorithm to do this is somewhat complicated, but fortunately some other people have already implemented it for us. We just need to give their implementation a bunch of data corresponding to several observed values of $x_1$ and $x_2$ along with the correct value of $y$ for those data points. Their algorithm will give us back the \"best\" values of $\\beta$. Then, if we observe values for $x_1$ and $x_2$ for which we *do not* know the correct value of $y$, we can plug those into the equation above along with the estimated values for the $\\beta$ and compute the probabilty that these $x$ correspond to $y=1$. \n",
    "\n",
    "This is a very over-simplified description of logistic regression which has a number of interesting interpretations both statistically and geometrically which you're encouraged to read more about [here](https://en.wikipedia.org/wiki/Logistic_regression). In particular, I recommend reading the first two \"examples\" to get a bit more technical understanding of how the model works and how we define the \"best\" value of the $\\beta$.\n",
    "\n",
    "In our case the outcome variable will be \"given the last four seconds of EEG data, is the person having a seizure?\" So in this case our $x$ variables will be some variables which summarize the last four seconds of observed EEG data and our $y$ variable will be a $1$ if the person was having a seizure at any point in the last four seconds. The question of how to best summarize the signal so that a logistic regression gives good results has been the subject of considerable research and people have proposed a bunch of different values to extract from the seizure which may be useful. In this case we'll use a very simple model that uses the mean and variance of the signal in each window along with some features of the \"frequency domain\" which are well known to be useful by medical researchers. The term \"frequency domain\" refers to the representation of the signal obtained by computing its Fourier Transform. Recall that the [Fourier Transform](https://en.wikipedia.org/wiki/Fourier_transform) takes a signal which is measured as a function of time and decomposes it into a superposition of primitive waves oscilating at different frequencies. In many cases (including this one), the relative importance of these waves tells us useful things about the signal so it's very common to analyze signals in the frequency domain. If you don't know about Fourier Transforms, that's fine, but I recommend reading about them (or look up the 3Blue1Brown video about them) because they are very interesting.\n",
    "\n",
    "So our first task will be to read the raw data collected on EEG and extract the various \"features\" from the raw signal."
   ]
  },
  {
   "cell_type": "code",
   "execution_count": 1,
   "metadata": {},
   "outputs": [],
   "source": [
    "import tables\n",
    "\n",
    "import numpy as np\n",
    "import pandas as pd\n",
    "\n",
    "from scipy import signal\n",
    "from scipy import integrate\n",
    "\n",
    "from sklearn.metrics import confusion_matrix\n",
    "from sklearn.preprocessing import StandardScaler\n",
    "from sklearn.linear_model import LogisticRegression"
   ]
  },
  {
   "cell_type": "code",
   "execution_count": 14,
   "metadata": {},
   "outputs": [],
   "source": [
    "def downSample(data_train, label_train):\n",
    "    \n",
    "    isFalse = (label_train == False) # mask to select all non-seizure data for subject\n",
    "    data_train_false = data_train[isFalse,:] # select all non-seizure data for subject\n",
    "    \n",
    "    numTrue = np.sum(label_train) # get number of data points marked as seizure\n",
    "    \n",
    "     # randomly sample same amount of non-seizures as seizures\n",
    "    data_train_false = np.random.choice(data_train_false, numTrue)\n",
    "    \n",
    "    # create same amount of zeroes (False) as number of Trues\n",
    "    label_false = np.zeros(numTrue)\n",
    "    \n",
    "    # capture all data marked as seizure\n",
    "    data_train_true = data_train[np.logical_not(isFalse), :]\n",
    "    label_true = label_false = np.ones(numTrue)\n",
    "    \n",
    "    data_train_down = np.concatenate((data_train_false, data_train_true))\n",
    "    label_train_down = np.concatenate((label_false, label_true))\n",
    "    \n",
    "    return data_train_down, label_train_down"
   ]
  },
  {
   "cell_type": "code",
   "execution_count": 2,
   "metadata": {},
   "outputs": [],
   "source": [
    "# Let's examine the file. It contains several \"nodes\" each of which corresponds to one test subject\n",
    "# Each node has several children which each correspond to (roughly) one hour of data.\n",
    "\n",
    "# h5_file = tables.open_file(\"../input/eeg_data_temples2.h5\")\n",
    "# print(h5_file)"
   ]
  },
  {
   "cell_type": "code",
   "execution_count": 3,
   "metadata": {},
   "outputs": [],
   "source": [
    "# This function computes the relative power in several frequency bands which\n",
    "# are generally known to be medically relevant\n",
    "\n",
    "def compute_band_relpower(X):\n",
    "    band_relpower = []\n",
    "    bands = [(0.5,4), (4,8), (8,13), (13,32), (32,60)]\n",
    "\n",
    "    freqs, psd = signal.welch(X, fs=256.0, axis=0)\n",
    "    fr_res = freqs[1] - freqs[0]\n",
    "\n",
    "    where = lambda lb, ub: np.logical_and(freqs >= lb, freqs < ub)\n",
    "    abs_power = np.concatenate(\n",
    "            [integrate.simps(psd[where(lb, ub),:], dx=fr_res, axis=0\n",
    "                ).reshape(1,-1) for lb, ub in bands]\n",
    "        )\n",
    "    total_power = integrate.simps(psd, dx=fr_res, axis=0).astype(np.float64)\n",
    "    abs_power[:,total_power == 0] = 0\n",
    "    total_power[total_power == 0] = -1\n",
    "    band_relpower = (abs_power / total_power).ravel()    \n",
    "\n",
    "    return band_relpower"
   ]
  },
  {
   "cell_type": "code",
   "execution_count": 4,
   "metadata": {},
   "outputs": [],
   "source": [
    "# Now we'll read the data into a Python data structure and \n",
    "# extract features of the signal to be used in a statistical \n",
    "# algorithm for prediction\n",
    "def readData():\n",
    "    \n",
    "    # open file\n",
    "    h5_file = tables.open_file(\"../input/eeg_data_temples2.h5\")\n",
    "    \n",
    "    sampling_rate = 256     # how many observations (samples) are gathered every? second\n",
    "    window_size_seconds = 4 # how many seconds of data do we want in a window?\n",
    "    stride_seconds = 2      # how far should we advance the window at each step?\n",
    "\n",
    "    window_size = window_size_seconds*sampling_rate\n",
    "    stride = stride_seconds*sampling_rate\n",
    "\n",
    "    features = []\n",
    "    labels   = []\n",
    "    subjects = []\n",
    "    for node in h5_file.walk_nodes(\"/\", \"CArray\"):\n",
    "        node_data = node.read()\n",
    "        subject_id = node._v_name.split(\"/\")[0].split(\"_\")[0]\n",
    "\n",
    "        # The data for each node is an N x 3 numpy array (a matrix)\n",
    "        # The first two columns are the EEG data and the third is an\n",
    "        # indicator variable which is equal to 1 if the observation \n",
    "        # corresponds to a seizure\n",
    "\n",
    "        X, y = node_data[:,:-1], node_data[:,-1]\n",
    "        num_obs, num_channels = X.shape\n",
    "\n",
    "        # Now we want to convert our data matrix (X) into a sequence\n",
    "        # of overlapping windows\n",
    "\n",
    "        for ix in range(window_size, num_obs, stride):\n",
    "            X_w = X[ix-window_size:ix,:]\n",
    "\n",
    "            # now let's extract the \"features\" mentioned above\n",
    "            # TODO: compute the mean and variance of both channels of data\n",
    "            # hint: use np.mean and np.var and look up the \"axis\" argument\n",
    "            band_relpower = compute_band_relpower(X_w)\n",
    "            #print(band_relpower)\n",
    "            means = np.mean(X_w, axis = 0)\n",
    "            variances = np.var(X_w, axis = 0)\n",
    "\n",
    "            # TODO: concatenate all features into a single \"feature vector\"\n",
    "            # hint: use np.concatenate\n",
    "            feature_vector = np.concatenate((band_relpower, means, variances))\n",
    "            features.append(feature_vector)\n",
    "\n",
    "            labels.append(np.any(y[ix-window_size:ix]))\n",
    "            subjects.append(subject_id)\n",
    "        \n",
    "    features = np.vstack(features)\n",
    "    labels = np.array(labels)\n",
    "    subjects = np.array(subjects)\n",
    "        \n",
    "    return features, labels, subjects"
   ]
  },
  {
   "cell_type": "code",
   "execution_count": 5,
   "metadata": {},
   "outputs": [],
   "source": [
    "# now we can concatenate all the feature vectors into one big matrix:\n",
    "# X = np.vstack(features)\n",
    "# y = np.array(labels)\n",
    "# subjects = np.array(subjects)"
   ]
  },
  {
   "cell_type": "markdown",
   "metadata": {},
   "source": [
    "## Step 2: Split Data into Train and Test Sets\n",
    "\n",
    "We're now almost ready to pass our data (X) to the algorithm to estimate the model's parameters. But what if we got lucky and collected a bunch of data that's really easy to classify correctly? Then, our model will appear to be much better than it actually is. What we're really interested in is: how well does our model predict data on which it was not trained? A simple way to answer this question is to hold out a sub-sample of your data from training and then evaluate the accuracy of the model (how often it guesses the correct value) on this held out sample. This is known as \"cross validation.\"\n",
    "\n",
    "For medical applications where you often have multiple test subjects, the best way to perform cross validation is to exclude one subject from training and use that subject as the validation sample. The model is trained on everyone else and we use the test subject to estimate the model performance. So in this step, we want to split the data into a train and test set."
   ]
  },
  {
   "cell_type": "code",
   "execution_count": 6,
   "metadata": {},
   "outputs": [],
   "source": [
    "def getTrainAndTest(subID, data, label, subjects):\n",
    "\n",
    "    is_test_set = (subjects == subID) # mask to select data for everyone, but subID\n",
    "    data_train = data[np.logical_not(is_test_set),:] # get entire row of subject in data\n",
    "    label_train = label[np.logical_not(is_test_set)] # get label of row\n",
    "\n",
    "    # TODO: use the \"is_test_set\" variable to extract the rows of `X`\n",
    "    # corresponding to the test subject.\n",
    "    data_test = data[is_test_set, :]\n",
    "    label_test = label[is_test_set]\n",
    "    \n",
    "    # As a final step, we'll resacle each of our features so that they\n",
    "    # have a mean of zero and a standard deviation of one. Again, the \n",
    "    # reason why we do this is a bit technical, but in general ML models\n",
    "    # don't like it when the features are on different scales.\n",
    "\n",
    "    S = StandardScaler()\n",
    "    data_train = S.fit_transform(data_train)\n",
    "    data_test = S.transform(data_test)\n",
    "    \n",
    "    return data_train, label_train, data_test, label_test"
   ]
  },
  {
   "cell_type": "markdown",
   "metadata": {},
   "source": [
    "## Step 3: Estimate Model Parameters\n",
    "\n",
    "We're now finally ready to estimate the parameters of our model. Fortunately, this step is really easy. We just construct a `LogisticRegression` object and call its `fit` method. All the hard work was done by the creators of `scikit-learn` who implemented the algorithm for parameter estimation."
   ]
  },
  {
   "cell_type": "code",
   "execution_count": 13,
   "metadata": {},
   "outputs": [],
   "source": [
    "# TODO: construct a logistic regression object and call it's .fit()\n",
    "# method with the training data\n",
    "def trainModel(data_train, data_test, label_train, label_test):\n",
    "    \n",
    "    data_train, label_train = downSample(data_train, label_train)\n",
    "    \n",
    "    clf = LogisticRegression(random_state=0)\n",
    "    clf.fit(data_train, y_train)\n",
    "\n",
    "    # Now let's evaluate the performance of our model on the train and\n",
    "    # test set. We can use the \"predict\" method of the model to obtain\n",
    "    # predictions and compare these against the correct values\n",
    "    # TODO: compute the accuracy of the model on the training and testing\n",
    "    # datasets\n",
    "\n",
    "    label_pred_train = clf.predict(data_train)\n",
    "    train_accuracy = np.mean(np.equal(label_pred_train, label_train))\n",
    "\n",
    "    label_pred_test = clf.predict(data_test)\n",
    "    test_accuracy = np.mean(np.equal(label_pred_test, label_test))\n",
    "\n",
    "    return label_pred_train, label_pred_test\n",
    "    #print(\"Training accuracy was: {}\".format(train_accuracy))\n",
    "    #print(\"Test accuracy was: {}\".format(test_accuracy))"
   ]
  },
  {
   "cell_type": "markdown",
   "metadata": {},
   "source": [
    "### Debugging...\n",
    "\n",
    "Wow! $99\\%$ accuracy on the test set! Amazing! We've solved the problem of seizure detection! Or have we...\n",
    "\n",
    "Let's compute the true negative and true positive rate for our classifier. I.e. how many examples that actually were `0` were correctly classified as `0` and how many that really were `1` were correctly classified as `1`."
   ]
  },
  {
   "cell_type": "code",
   "execution_count": 8,
   "metadata": {},
   "outputs": [],
   "source": [
    "# TODO: compute the \"confusion matrix\" for the model\n",
    "# (hint: use the \"confusion_matrix\" function) and then use this\n",
    "# to compute the true negative rate and true positive rate\n",
    "def computeTrueNegAndPos(label_pred_test, label_test):\n",
    "    \n",
    "    cfn = confusion_matrix(label_pred_test, label_test)\n",
    "    true_negatives = cfn[0][0] / len(label_test)\n",
    "    true_positives = cfn[1][1] / len(label_test)\n",
    "\n",
    "    return true_negatives, true_positives\n",
    "    #print(\"True negative rate: {}\".format(true_negatives))\n",
    "    #print(\"True positive rate: {}\".format(true_positives))"
   ]
  },
  {
   "cell_type": "markdown",
   "metadata": {},
   "source": [
    "My true positive rate was $0\\%$ - our model **never** correctly predicted that someone had a seizure - which is what we care about! So even though the accuracy is really high we actually have a terrible model. Why did this happen? Let's compute the fraction of training examples that are a `1`."
   ]
  },
  {
   "cell_type": "code",
   "execution_count": 9,
   "metadata": {},
   "outputs": [],
   "source": [
    "#print(np.mean(y_train))"
   ]
  },
  {
   "cell_type": "markdown",
   "metadata": {},
   "source": [
    "Only about $0.1\\%$ of the training data points are a `1`! Therefore, they contribute almost nothing to the model and it ignores them! Again the reality is more bit complicated but requires some technical details on how the training algorithm works. This is a common problem in ML called an \"unbalanced training set.\" Which, in general, means your classifier sees way more of one class than the other(s). There are many methods to deal with unbalanced training sets. The simplest (but not the best) way is to downsample the overrepresented class to obtain a balanced training set with equal numbers of `0`'s and `1`'s."
   ]
  },
  {
   "cell_type": "code",
   "execution_count": 10,
   "metadata": {},
   "outputs": [],
   "source": [
    "# TODO: draw a random sample of the negative (0) training examples\n",
    "# to ensure there are an equal number of 0's and 1's in the training\n",
    "# data and estimate the model again.\n",
    "\n",
    "# print(\"Training accuracy was: {}\".format(train_accuracy))\n",
    "# print(\"Test accuracy was: {}\".format(test_accuracy))\n",
    "\n",
    "# print(\"True negative rate: {}\".format(true_negatives))\n",
    "# print(\"True positive rate: {}\".format(true_positives))"
   ]
  },
  {
   "cell_type": "markdown",
   "metadata": {},
   "source": [
    "I got about $63\\%$ - not great, but much better than before and better than guessing randomly so our model is doing something useful! Seizure detection is an extensively studied problem and there are dozens of papers written about different methods to do it. We used a very simple method and there are lots of tricks you can use to improve even a simple model like logistic regression. Some things you might consider trying:\n",
    "* We could also consider *interactions* between the features and powers of a feature (e.g. a polynomial). For instance maybe $\\mu_1\\dot\\mu_{2}$ is useful for the model.\n",
    "* EEG signals are very noisy meaning they contain a lot of flucutations which are more or less random and don't tell us anything useful. There are lots of techniques in the literature on denoising. One common one is to compute the fourier transform of the signal and zero out high-frequency components of the signal (> 60Hz).\n",
    "* Logistic regression is a fiarly simple model that requires manually extracting features from the signal. We could instead try a more complicated model which can \"learn\" the best features to extract. The most well known of this class of models are neural networks.\n",
    "\n",
    "### Some More Analysis...\n",
    "So far, we've only evaluated the performance of the model on a single test subject. We should repeat this process holding out each test subject to get a better sense of the models typical performance.\n",
    "\n",
    "TODO: Repeat the above analysis holding out each subject. Write a function which takes the ID of the test subject, constructs the train and test sets (subsampling the training set), estimates models and returns the true negative and true positive rates. Create a table showing the true negative and true positive rate for each subject.\n",
    "\n",
    "Finally: Pick the best model and plot the probability returned by the logistic regression model (on the test set) over time. The X-axis should represent time and the Y-axis should be the probability estimated by the model that the corresponding window is a seizure. Use different colors for seizure and non-seizure points and include a legend showing which color is which."
   ]
  },
  {
   "cell_type": "code",
   "execution_count": 11,
   "metadata": {},
   "outputs": [],
   "source": [
    "def runModelOnSubject(subID, features, labels, subjects):\n",
    "    \n",
    "    data_train, label_train, data_test, label_test = getTrainAndTest(subID, features, labels, subjects)\n",
    "    label_pred_train, label_pred_test = trainModel(data_train, label_train, data_test, label_test)\n",
    "    \n",
    "    # only computing for test set\n",
    "    true_negatives, true_positives = computeTrueNegAndPos(label_pred_test, label_test)\n",
    "    \n",
    "    return true_negatives, true_positives"
   ]
  },
  {
   "cell_type": "code",
   "execution_count": 16,
   "metadata": {},
   "outputs": [
    {
     "ename": "OSError",
     "evalue": "``../input/eeg_data_temples2.h5`` does not exist",
     "output_type": "error",
     "traceback": [
      "\u001b[0;31m---------------------------------------------------------------------------\u001b[0m",
      "\u001b[0;31mOSError\u001b[0m                                   Traceback (most recent call last)",
      "\u001b[0;32m<ipython-input-16-1af854636768>\u001b[0m in \u001b[0;36m<module>\u001b[0;34m\u001b[0m\n\u001b[1;32m      2\u001b[0m \u001b[0;34m\u001b[0m\u001b[0m\n\u001b[1;32m      3\u001b[0m     \u001b[0;31m#subjectID = 'chb01'\u001b[0m\u001b[0;34m\u001b[0m\u001b[0;34m\u001b[0m\u001b[0;34m\u001b[0m\u001b[0m\n\u001b[0;32m----> 4\u001b[0;31m     \u001b[0mfeatures\u001b[0m\u001b[0;34m,\u001b[0m \u001b[0mlabels\u001b[0m\u001b[0;34m,\u001b[0m \u001b[0msubjects\u001b[0m \u001b[0;34m=\u001b[0m \u001b[0mreadData\u001b[0m\u001b[0;34m(\u001b[0m\u001b[0;34m)\u001b[0m\u001b[0;34m\u001b[0m\u001b[0;34m\u001b[0m\u001b[0m\n\u001b[0m\u001b[1;32m      5\u001b[0m     \u001b[0muniqueSubs\u001b[0m \u001b[0;34m=\u001b[0m \u001b[0mset\u001b[0m\u001b[0;34m(\u001b[0m\u001b[0msubjects\u001b[0m\u001b[0;34m)\u001b[0m\u001b[0;34m\u001b[0m\u001b[0;34m\u001b[0m\u001b[0m\n\u001b[1;32m      6\u001b[0m     \u001b[0mtableData\u001b[0m \u001b[0;34m=\u001b[0m \u001b[0;34m[\u001b[0m\u001b[0;34m]\u001b[0m\u001b[0;34m\u001b[0m\u001b[0;34m\u001b[0m\u001b[0m\n",
      "\u001b[0;32m<ipython-input-4-441ff3531502>\u001b[0m in \u001b[0;36mreadData\u001b[0;34m()\u001b[0m\n\u001b[1;32m      5\u001b[0m \u001b[0;34m\u001b[0m\u001b[0m\n\u001b[1;32m      6\u001b[0m     \u001b[0;31m# open file\u001b[0m\u001b[0;34m\u001b[0m\u001b[0;34m\u001b[0m\u001b[0;34m\u001b[0m\u001b[0m\n\u001b[0;32m----> 7\u001b[0;31m     \u001b[0mh5_file\u001b[0m \u001b[0;34m=\u001b[0m \u001b[0mtables\u001b[0m\u001b[0;34m.\u001b[0m\u001b[0mopen_file\u001b[0m\u001b[0;34m(\u001b[0m\u001b[0;34m\"../input/eeg_data_temples2.h5\"\u001b[0m\u001b[0;34m)\u001b[0m\u001b[0;34m\u001b[0m\u001b[0;34m\u001b[0m\u001b[0m\n\u001b[0m\u001b[1;32m      8\u001b[0m \u001b[0;34m\u001b[0m\u001b[0m\n\u001b[1;32m      9\u001b[0m     \u001b[0msampling_rate\u001b[0m \u001b[0;34m=\u001b[0m \u001b[0;36m256\u001b[0m     \u001b[0;31m# how many observations (samples) are gathered every? second\u001b[0m\u001b[0;34m\u001b[0m\u001b[0;34m\u001b[0m\u001b[0m\n",
      "\u001b[0;32m~/anaconda3/lib/python3.7/site-packages/tables/file.py\u001b[0m in \u001b[0;36mopen_file\u001b[0;34m(filename, mode, title, root_uep, filters, **kwargs)\u001b[0m\n\u001b[1;32m    318\u001b[0m \u001b[0;34m\u001b[0m\u001b[0m\n\u001b[1;32m    319\u001b[0m     \u001b[0;31m# Finally, create the File instance, and return it\u001b[0m\u001b[0;34m\u001b[0m\u001b[0;34m\u001b[0m\u001b[0;34m\u001b[0m\u001b[0m\n\u001b[0;32m--> 320\u001b[0;31m     \u001b[0;32mreturn\u001b[0m \u001b[0mFile\u001b[0m\u001b[0;34m(\u001b[0m\u001b[0mfilename\u001b[0m\u001b[0;34m,\u001b[0m \u001b[0mmode\u001b[0m\u001b[0;34m,\u001b[0m \u001b[0mtitle\u001b[0m\u001b[0;34m,\u001b[0m \u001b[0mroot_uep\u001b[0m\u001b[0;34m,\u001b[0m \u001b[0mfilters\u001b[0m\u001b[0;34m,\u001b[0m \u001b[0;34m**\u001b[0m\u001b[0mkwargs\u001b[0m\u001b[0;34m)\u001b[0m\u001b[0;34m\u001b[0m\u001b[0;34m\u001b[0m\u001b[0m\n\u001b[0m\u001b[1;32m    321\u001b[0m \u001b[0;34m\u001b[0m\u001b[0m\n\u001b[1;32m    322\u001b[0m \u001b[0;34m\u001b[0m\u001b[0m\n",
      "\u001b[0;32m~/anaconda3/lib/python3.7/site-packages/tables/file.py\u001b[0m in \u001b[0;36m__init__\u001b[0;34m(self, filename, mode, title, root_uep, filters, **kwargs)\u001b[0m\n\u001b[1;32m    782\u001b[0m \u001b[0;34m\u001b[0m\u001b[0m\n\u001b[1;32m    783\u001b[0m         \u001b[0;31m# Now, it is time to initialize the File extension\u001b[0m\u001b[0;34m\u001b[0m\u001b[0;34m\u001b[0m\u001b[0;34m\u001b[0m\u001b[0m\n\u001b[0;32m--> 784\u001b[0;31m         \u001b[0mself\u001b[0m\u001b[0;34m.\u001b[0m\u001b[0m_g_new\u001b[0m\u001b[0;34m(\u001b[0m\u001b[0mfilename\u001b[0m\u001b[0;34m,\u001b[0m \u001b[0mmode\u001b[0m\u001b[0;34m,\u001b[0m \u001b[0;34m**\u001b[0m\u001b[0mparams\u001b[0m\u001b[0;34m)\u001b[0m\u001b[0;34m\u001b[0m\u001b[0;34m\u001b[0m\u001b[0m\n\u001b[0m\u001b[1;32m    785\u001b[0m \u001b[0;34m\u001b[0m\u001b[0m\n\u001b[1;32m    786\u001b[0m         \u001b[0;31m# Check filters and set PyTables format version for new files.\u001b[0m\u001b[0;34m\u001b[0m\u001b[0;34m\u001b[0m\u001b[0;34m\u001b[0m\u001b[0m\n",
      "\u001b[0;32mtables/hdf5extension.pyx\u001b[0m in \u001b[0;36mtables.hdf5extension.File._g_new\u001b[0;34m()\u001b[0m\n",
      "\u001b[0;32m~/anaconda3/lib/python3.7/site-packages/tables/utils.py\u001b[0m in \u001b[0;36mcheck_file_access\u001b[0;34m(filename, mode)\u001b[0m\n\u001b[1;32m    155\u001b[0m         \u001b[0;31m# The file should be readable.\u001b[0m\u001b[0;34m\u001b[0m\u001b[0;34m\u001b[0m\u001b[0;34m\u001b[0m\u001b[0m\n\u001b[1;32m    156\u001b[0m         \u001b[0;32mif\u001b[0m \u001b[0;32mnot\u001b[0m \u001b[0mos\u001b[0m\u001b[0;34m.\u001b[0m\u001b[0maccess\u001b[0m\u001b[0;34m(\u001b[0m\u001b[0mfilename\u001b[0m\u001b[0;34m,\u001b[0m \u001b[0mos\u001b[0m\u001b[0;34m.\u001b[0m\u001b[0mF_OK\u001b[0m\u001b[0;34m)\u001b[0m\u001b[0;34m:\u001b[0m\u001b[0;34m\u001b[0m\u001b[0;34m\u001b[0m\u001b[0m\n\u001b[0;32m--> 157\u001b[0;31m             \u001b[0;32mraise\u001b[0m \u001b[0mIOError\u001b[0m\u001b[0;34m(\u001b[0m\u001b[0;34m\"``%s`` does not exist\"\u001b[0m \u001b[0;34m%\u001b[0m \u001b[0;34m(\u001b[0m\u001b[0mfilename\u001b[0m\u001b[0;34m,\u001b[0m\u001b[0;34m)\u001b[0m\u001b[0;34m)\u001b[0m\u001b[0;34m\u001b[0m\u001b[0;34m\u001b[0m\u001b[0m\n\u001b[0m\u001b[1;32m    158\u001b[0m         \u001b[0;32mif\u001b[0m \u001b[0;32mnot\u001b[0m \u001b[0mos\u001b[0m\u001b[0;34m.\u001b[0m\u001b[0mpath\u001b[0m\u001b[0;34m.\u001b[0m\u001b[0misfile\u001b[0m\u001b[0;34m(\u001b[0m\u001b[0mfilename\u001b[0m\u001b[0;34m)\u001b[0m\u001b[0;34m:\u001b[0m\u001b[0;34m\u001b[0m\u001b[0;34m\u001b[0m\u001b[0m\n\u001b[1;32m    159\u001b[0m             \u001b[0;32mraise\u001b[0m \u001b[0mIOError\u001b[0m\u001b[0;34m(\u001b[0m\u001b[0;34m\"``%s`` is not a regular file\"\u001b[0m \u001b[0;34m%\u001b[0m \u001b[0;34m(\u001b[0m\u001b[0mfilename\u001b[0m\u001b[0;34m,\u001b[0m\u001b[0;34m)\u001b[0m\u001b[0;34m)\u001b[0m\u001b[0;34m\u001b[0m\u001b[0;34m\u001b[0m\u001b[0m\n",
      "\u001b[0;31mOSError\u001b[0m: ``../input/eeg_data_temples2.h5`` does not exist"
     ]
    }
   ],
   "source": [
    "if __name__ == \"__main__\":\n",
    "    \n",
    "    #subjectID = 'chb01'\n",
    "    features, labels, subjects = readData()\n",
    "    uniqueSubs = set(subjects)\n",
    "    tableData = []\n",
    "    \n",
    "    print(subjects)\n",
    "    \n",
    "    for sub in uniqueSubs:\n",
    "        true_neg, tru_pos = runModelOnSubject(sub, features, labels, subjects)\n",
    "        currSubResults = np.concatenate((sub, true_neg, tru_pos))\n",
    "        tableData.append(currSubResults)\n",
    "        \n",
    "    print('| Subject ID | True Negative Rate | True Positive Rate |')\n",
    "    print('--------------------------------------------------------')\n",
    "    \n",
    "    for data in tableData:\n",
    "        print('|', data[0], \" \" * 11 - len(data[0]), \n",
    "              '|', data[1], \" \" * 19 - len(str(data[1])), \n",
    "              '|', data[2], \" \" * 19 - len(str(data[2])))"
   ]
  },
  {
   "cell_type": "code",
   "execution_count": null,
   "metadata": {},
   "outputs": [],
   "source": [
    "h5_file.close()"
   ]
  }
 ],
 "metadata": {
  "kernelspec": {
   "display_name": "Python 3",
   "language": "python",
   "name": "python3"
  },
  "language_info": {
   "codemirror_mode": {
    "name": "ipython",
    "version": 3
   },
   "file_extension": ".py",
   "mimetype": "text/x-python",
   "name": "python",
   "nbconvert_exporter": "python",
   "pygments_lexer": "ipython3",
   "version": "3.7.3"
  }
 },
 "nbformat": 4,
 "nbformat_minor": 4
}
